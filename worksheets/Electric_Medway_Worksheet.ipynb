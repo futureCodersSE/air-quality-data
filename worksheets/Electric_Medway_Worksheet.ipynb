{
  "nbformat": 4,
  "nbformat_minor": 0,
  "metadata": {
    "colab": {
      "name": "Electric Medway Worksheet.ipynb",
      "provenance": [],
      "authorship_tag": "ABX9TyOfwCAQLya33yPu7T/dYnbB",
      "include_colab_link": true
    },
    "kernelspec": {
      "name": "python3",
      "display_name": "Python 3"
    },
    "language_info": {
      "name": "python"
    }
  },
  "cells": [
    {
      "cell_type": "markdown",
      "metadata": {
        "id": "view-in-github",
        "colab_type": "text"
      },
      "source": [
        "<a href=\"https://colab.research.google.com/github/futureCodersSE/air-quality-data/blob/master/worksheets/Electric_Medway_Worksheet.ipynb\" target=\"_parent\"><img src=\"https://colab.research.google.com/assets/colab-badge.svg\" alt=\"Open In Colab\"/></a>"
      ]
    },
    {
      "cell_type": "markdown",
      "metadata": {
        "id": "AVCxMzqnFpGg"
      },
      "source": [
        "# Practice worksheet for Electric Medway\n",
        "\n",
        "You can add text cells with instructions in, and code cells  where learners can write and run code (Use + Code or + Text in ribbon above).  I have added the matplotlib.plotly library import.\n",
        "\n",
        "These are the same as Jupyter notebooks"
      ]
    },
    {
      "cell_type": "code",
      "metadata": {
        "colab": {
          "base_uri": "https://localhost:8080/",
          "height": 282
        },
        "id": "-TvPXkxFFmNJ",
        "outputId": "51b779d6-b116-4274-e826-3432077dc18a"
      },
      "source": [
        "import matplotlib.pyplot as plt\n",
        "\n",
        "x = [\"Apples\", \"Pears\", \"Bananas\"]\n",
        "y = [1,2,3]\n",
        "plt.bar(x,y)"
      ],
      "execution_count": 2,
      "outputs": [
        {
          "output_type": "execute_result",
          "data": {
            "text/plain": [
              "<BarContainer object of 3 artists>"
            ]
          },
          "metadata": {
            "tags": []
          },
          "execution_count": 2
        },
        {
          "output_type": "display_data",
          "data": {
            "image/png": "[encoded data removed]",
            "text/plain": [
              "<Figure size 432x288 with 1 Axes>"
            ]
          },
          "metadata": {
            "tags": [],
            "needs_background": "light"
          }
        }
      ]
    }
  ]
}